{
 "cells": [
  {
   "cell_type": "markdown",
   "id": "e66e741c",
   "metadata": {},
   "source": [
    "## Background\n",
    "\n",
    "Write three SQL queries to answer the following questions:\n",
    "\n",
    "1. Find the number of unique individuals that use each garage’s shared charging stations. The output should contain two columns: garage_id and num_unique_users. Sort your results by the number of unique users from highest to lowest. Save the result as unique_users_per_garage.\n",
    "\n",
    "2. Find the top 10 most popular charging start times (by weekday and start hour) for sessions that use shared charging stations. Your result should contain three columns: weekdays_plugin, start_plugin_hour, and a column named num_charging_sessions containing the number of plugins on that weekday at that hour. Sort your results from the most to the least number of sessions. Save the result as most_popular_shared_start_times."
   ]
  },
  {
   "cell_type": "markdown",
   "id": "cba64ac6-19c0-4186-a8ae-6d1b990547e0",
   "metadata": {},
   "source": [
    "As electronic vehicles (EVs) become more popular, there is an increasing need for access to charging stations, also known as ports. To that end, many modern apartment buildings have begun retrofitting their parking garages to include shared charging stations. A charging station is shared if it is accessible by anyone in the building.\n",
    "\n",
    "But with increasing demand comes competition for these ports — nothing is more frustrating than coming home to find no charging stations available! In this project, you will use a dataset to help apartment building managers better understand their tenants’ EV charging habits.\n",
    "\n",
    "<br>\n",
    "\n",
    "`vehicle_charging_sessions`\n",
    "\n",
    "| Column | Definition | Data type |\n",
    "|-|-|-|\n",
    "|`garage_id`| Identifier for the garage/building|`VARCHAR`|\n",
    "|`user_id` | Identifier for the individual user|`VARCHAR`|\n",
    "|`user_type`|Indicating whether the station is `Shared` or `Private`| `VARCHAR` |\n",
    "|`start_plugin`|The date and time the session started |`DATETIME`|\n",
    "|`start_plugin_hour`|The hour (in military time) that the session started | `NUMERIC`|\n",
    "|`end_plugout`|The date and time the session ended | `DATETIME` |\n",
    "|`end_plugout_hour`|The hour (in military time) that the session ended | `NUMERIC`|\n",
    "|`duration_hours`| The length of the session, in hours|`NUMERIC`|\n",
    "|`el_kwh`| Amount of electricity used (in Kilowatt hours)|`NUMERIC`|\n",
    "|`month_plugin`| The month that the session started |`VARCHAR`|\n",
    "|`weekdays_plugin`| The day of the week that the session started|`VARCHAR`|\n"
   ]
  },
  {
   "cell_type": "code",
   "execution_count": 1,
   "id": "dc3ce4b9-cae6-4e70-94a9-05bb4ec212d5",
   "metadata": {
    "customType": "sql",
    "dataFrameVariableName": "unique_users_per_garage",
    "executionCancelledAt": null,
    "executionTime": null,
    "lastExecutedAt": null,
    "lastExecutedByKernel": null,
    "lastScheduledRunId": null,
    "lastSuccessfullyExecutedCode": null,
    "outputsMetadata": {
     "0": {
      "height": 550,
      "tableState": {
       "quickFilterText": ""
      },
      "type": "dataFrame"
     }
    },
    "sqlCellMode": "dataFrame",
    "sqlSource": {
     "integrationId": "89e17161-a224-4a8a-846b-0adc0fe7a4b1",
     "integrationType": "postgresql",
     "type": "integration"
    }
   },
   "outputs": [
    {
     "data": {
      "application/com.datacamp.data-table.v2+json": {
       "table": {
        "data": {
         "garage_id": [
          "Bl2",
          "AsO2",
          "UT9",
          "AdO3",
          "MS1",
          "SR2",
          "AdA1",
          "Ris"
         ],
         "index": [
          0,
          1,
          2,
          3,
          4,
          5,
          6,
          7
         ],
         "num_unique_users": [
          18,
          17,
          16,
          3,
          2,
          2,
          1,
          1
         ]
        },
        "schema": {
         "fields": [
          {
           "name": "index",
           "type": "integer"
          },
          {
           "name": "garage_id",
           "type": "string"
          },
          {
           "name": "num_unique_users",
           "type": "integer"
          }
         ],
         "pandas_version": "1.4.0",
         "primaryKey": [
          "index"
         ]
        }
       },
       "total_rows": 8,
       "truncation_type": null
      },
      "text/html": [
       "<div>\n",
       "<style scoped>\n",
       "    .dataframe tbody tr th:only-of-type {\n",
       "        vertical-align: middle;\n",
       "    }\n",
       "\n",
       "    .dataframe tbody tr th {\n",
       "        vertical-align: top;\n",
       "    }\n",
       "\n",
       "    .dataframe thead th {\n",
       "        text-align: right;\n",
       "    }\n",
       "</style>\n",
       "<table border=\"1\" class=\"dataframe\">\n",
       "  <thead>\n",
       "    <tr style=\"text-align: right;\">\n",
       "      <th></th>\n",
       "      <th>garage_id</th>\n",
       "      <th>num_unique_users</th>\n",
       "    </tr>\n",
       "  </thead>\n",
       "  <tbody>\n",
       "    <tr>\n",
       "      <th>0</th>\n",
       "      <td>Bl2</td>\n",
       "      <td>18</td>\n",
       "    </tr>\n",
       "    <tr>\n",
       "      <th>1</th>\n",
       "      <td>AsO2</td>\n",
       "      <td>17</td>\n",
       "    </tr>\n",
       "    <tr>\n",
       "      <th>2</th>\n",
       "      <td>UT9</td>\n",
       "      <td>16</td>\n",
       "    </tr>\n",
       "    <tr>\n",
       "      <th>3</th>\n",
       "      <td>AdO3</td>\n",
       "      <td>3</td>\n",
       "    </tr>\n",
       "    <tr>\n",
       "      <th>4</th>\n",
       "      <td>MS1</td>\n",
       "      <td>2</td>\n",
       "    </tr>\n",
       "    <tr>\n",
       "      <th>5</th>\n",
       "      <td>SR2</td>\n",
       "      <td>2</td>\n",
       "    </tr>\n",
       "    <tr>\n",
       "      <th>6</th>\n",
       "      <td>AdA1</td>\n",
       "      <td>1</td>\n",
       "    </tr>\n",
       "    <tr>\n",
       "      <th>7</th>\n",
       "      <td>Ris</td>\n",
       "      <td>1</td>\n",
       "    </tr>\n",
       "  </tbody>\n",
       "</table>\n",
       "</div>"
      ],
      "text/plain": [
       "  garage_id  num_unique_users\n",
       "0       Bl2                18\n",
       "1      AsO2                17\n",
       "2       UT9                16\n",
       "3      AdO3                 3\n",
       "4       MS1                 2\n",
       "5       SR2                 2\n",
       "6      AdA1                 1\n",
       "7       Ris                 1"
      ]
     },
     "execution_count": 1,
     "metadata": {
      "application/com.datacamp.data-table.v2+json": {
       "status": "success"
      }
     },
     "output_type": "execute_result"
    }
   ],
   "source": [
    "-- unique_users_per_garage\n",
    "\n",
    "SELECT garage_id, \n",
    "\tCOUNT(DISTINCT user_id) AS num_unique_users\n",
    "FROM charging_sessions\n",
    "WHERE user_type = 'Shared'\n",
    "GROUP BY garage_id\n",
    "ORDER BY num_unique_users DESC;"
   ]
  },
  {
   "cell_type": "code",
   "execution_count": 2,
   "id": "87d94718-1f41-4d7b-9125-db1000905d4c",
   "metadata": {
    "customType": "sql",
    "dataFrameVariableName": "most_popular_shared_start_times",
    "executionCancelledAt": null,
    "executionTime": null,
    "lastExecutedAt": null,
    "lastExecutedByKernel": null,
    "lastScheduledRunId": null,
    "lastSuccessfullyExecutedCode": null,
    "outputsMetadata": {
     "0": {
      "height": 50,
      "tableState": {
       "customFilter": {
        "const": {
         "type": "boolean",
         "valid": true,
         "value": true
        },
        "id": "56d968e5-ee2f-455b-b542-ce8d00597183",
        "nodeType": "const"
       },
       "quickFilterText": ""
      },
      "type": "dataFrame"
     }
    },
    "sqlCellMode": "dataFrame",
    "sqlSource": {
     "integrationId": "89e17161-a224-4a8a-846b-0adc0fe7a4b1",
     "integrationType": "postgresql",
     "type": "integration"
    }
   },
   "outputs": [
    {
     "data": {
      "application/com.datacamp.data-table.v2+json": {
       "table": {
        "data": {
         "index": [
          0,
          1,
          2,
          3,
          4,
          5,
          6,
          7,
          8,
          9
         ],
         "num_charging_sessions": [
          30,
          28,
          26,
          26,
          25,
          25,
          25,
          24,
          24,
          23
         ],
         "start_plugin_hour": [
          17,
          15,
          19,
          16,
          19,
          18,
          15,
          15,
          16,
          16
         ],
         "weekdays_plugin": [
          "Sunday",
          "Friday",
          "Thursday",
          "Thursday",
          "Wednesday",
          "Sunday",
          "Sunday",
          "Monday",
          "Friday",
          "Tuesday"
         ]
        },
        "schema": {
         "fields": [
          {
           "name": "index",
           "type": "integer"
          },
          {
           "name": "weekdays_plugin",
           "type": "string"
          },
          {
           "name": "start_plugin_hour",
           "type": "integer"
          },
          {
           "name": "num_charging_sessions",
           "type": "integer"
          }
         ],
         "pandas_version": "1.4.0",
         "primaryKey": [
          "index"
         ]
        }
       },
       "total_rows": 10,
       "truncation_type": null
      },
      "text/html": [
       "<div>\n",
       "<style scoped>\n",
       "    .dataframe tbody tr th:only-of-type {\n",
       "        vertical-align: middle;\n",
       "    }\n",
       "\n",
       "    .dataframe tbody tr th {\n",
       "        vertical-align: top;\n",
       "    }\n",
       "\n",
       "    .dataframe thead th {\n",
       "        text-align: right;\n",
       "    }\n",
       "</style>\n",
       "<table border=\"1\" class=\"dataframe\">\n",
       "  <thead>\n",
       "    <tr style=\"text-align: right;\">\n",
       "      <th></th>\n",
       "      <th>weekdays_plugin</th>\n",
       "      <th>start_plugin_hour</th>\n",
       "      <th>num_charging_sessions</th>\n",
       "    </tr>\n",
       "  </thead>\n",
       "  <tbody>\n",
       "    <tr>\n",
       "      <th>0</th>\n",
       "      <td>Sunday</td>\n",
       "      <td>17</td>\n",
       "      <td>30</td>\n",
       "    </tr>\n",
       "    <tr>\n",
       "      <th>1</th>\n",
       "      <td>Friday</td>\n",
       "      <td>15</td>\n",
       "      <td>28</td>\n",
       "    </tr>\n",
       "    <tr>\n",
       "      <th>2</th>\n",
       "      <td>Thursday</td>\n",
       "      <td>19</td>\n",
       "      <td>26</td>\n",
       "    </tr>\n",
       "    <tr>\n",
       "      <th>3</th>\n",
       "      <td>Thursday</td>\n",
       "      <td>16</td>\n",
       "      <td>26</td>\n",
       "    </tr>\n",
       "    <tr>\n",
       "      <th>4</th>\n",
       "      <td>Wednesday</td>\n",
       "      <td>19</td>\n",
       "      <td>25</td>\n",
       "    </tr>\n",
       "    <tr>\n",
       "      <th>5</th>\n",
       "      <td>Sunday</td>\n",
       "      <td>18</td>\n",
       "      <td>25</td>\n",
       "    </tr>\n",
       "    <tr>\n",
       "      <th>6</th>\n",
       "      <td>Sunday</td>\n",
       "      <td>15</td>\n",
       "      <td>25</td>\n",
       "    </tr>\n",
       "    <tr>\n",
       "      <th>7</th>\n",
       "      <td>Monday</td>\n",
       "      <td>15</td>\n",
       "      <td>24</td>\n",
       "    </tr>\n",
       "    <tr>\n",
       "      <th>8</th>\n",
       "      <td>Friday</td>\n",
       "      <td>16</td>\n",
       "      <td>24</td>\n",
       "    </tr>\n",
       "    <tr>\n",
       "      <th>9</th>\n",
       "      <td>Tuesday</td>\n",
       "      <td>16</td>\n",
       "      <td>23</td>\n",
       "    </tr>\n",
       "  </tbody>\n",
       "</table>\n",
       "</div>"
      ],
      "text/plain": [
       "  weekdays_plugin  start_plugin_hour  num_charging_sessions\n",
       "0          Sunday                 17                     30\n",
       "1          Friday                 15                     28\n",
       "2        Thursday                 19                     26\n",
       "3        Thursday                 16                     26\n",
       "4       Wednesday                 19                     25\n",
       "5          Sunday                 18                     25\n",
       "6          Sunday                 15                     25\n",
       "7          Monday                 15                     24\n",
       "8          Friday                 16                     24\n",
       "9         Tuesday                 16                     23"
      ]
     },
     "execution_count": 2,
     "metadata": {
      "application/com.datacamp.data-table.v2+json": {
       "status": "success"
      }
     },
     "output_type": "execute_result"
    }
   ],
   "source": [
    "-- most_popular_shared_start_times\n",
    "\n",
    "SELECT weekdays_plugin,\n",
    "\tstart_plugin_hour, \n",
    "\tCOUNT(*) AS num_charging_sessions\n",
    "FROM charging_sessions\n",
    "WHERE user_type = 'Shared'\n",
    "GROUP BY weekdays_plugin,\n",
    "\tstart_plugin_hour\n",
    "ORDER BY num_charging_sessions DESC\n",
    "LIMIT 10;\n"
   ]
  },
  {
   "cell_type": "code",
   "execution_count": 3,
   "id": "1abe5e5b-2644-4d3a-848b-1d5ab745efdf",
   "metadata": {
    "chartConfig": {
     "bar": {
      "hasRoundedCorners": true,
      "stacked": false
     },
     "type": "bar",
     "version": "v1"
    },
    "customType": "sql",
    "dataFrameVariableName": "long_duration_shared_users",
    "executionCancelledAt": null,
    "executionTime": null,
    "lastExecutedAt": null,
    "lastExecutedByKernel": null,
    "lastScheduledRunId": null,
    "lastSuccessfullyExecutedCode": null,
    "outputsMetadata": {
     "0": {
      "height": 50,
      "tableState": {
       "customFilter": {
        "const": {
         "type": "boolean",
         "valid": true,
         "value": true
        },
        "id": "56d968e5-ee2f-455b-b542-ce8d00597183",
        "nodeType": "const"
       },
       "quickFilterText": ""
      },
      "type": "dataFrame"
     }
    },
    "sqlCellMode": "dataFrame",
    "sqlSource": {
     "integrationId": "89e17161-a224-4a8a-846b-0adc0fe7a4b1",
     "integrationType": "postgresql",
     "type": "integration"
    },
    "visualizeDataframe": false
   },
   "outputs": [
    {
     "data": {
      "application/com.datacamp.data-table.v2+json": {
       "table": {
        "data": {
         "avg_charging_duration": [
          16.845833335,
          12.8945555511,
          12.2144747466,
          12.0888071898,
          11.5504308392,
          10.3693869729
         ],
         "index": [
          0,
          1,
          2,
          3,
          4,
          5
         ],
         "user_id": [
          "Share-9",
          "Share-17",
          "Share-25",
          "Share-18",
          "Share-8",
          "AdO3-1"
         ]
        },
        "schema": {
         "fields": [
          {
           "name": "index",
           "type": "integer"
          },
          {
           "name": "user_id",
           "type": "string"
          },
          {
           "name": "avg_charging_duration",
           "type": "number"
          }
         ],
         "pandas_version": "1.4.0",
         "primaryKey": [
          "index"
         ]
        }
       },
       "total_rows": 6,
       "truncation_type": null
      },
      "text/html": [
       "<div>\n",
       "<style scoped>\n",
       "    .dataframe tbody tr th:only-of-type {\n",
       "        vertical-align: middle;\n",
       "    }\n",
       "\n",
       "    .dataframe tbody tr th {\n",
       "        vertical-align: top;\n",
       "    }\n",
       "\n",
       "    .dataframe thead th {\n",
       "        text-align: right;\n",
       "    }\n",
       "</style>\n",
       "<table border=\"1\" class=\"dataframe\">\n",
       "  <thead>\n",
       "    <tr style=\"text-align: right;\">\n",
       "      <th></th>\n",
       "      <th>user_id</th>\n",
       "      <th>avg_charging_duration</th>\n",
       "    </tr>\n",
       "  </thead>\n",
       "  <tbody>\n",
       "    <tr>\n",
       "      <th>0</th>\n",
       "      <td>Share-9</td>\n",
       "      <td>16.845833</td>\n",
       "    </tr>\n",
       "    <tr>\n",
       "      <th>1</th>\n",
       "      <td>Share-17</td>\n",
       "      <td>12.894556</td>\n",
       "    </tr>\n",
       "    <tr>\n",
       "      <th>2</th>\n",
       "      <td>Share-25</td>\n",
       "      <td>12.214475</td>\n",
       "    </tr>\n",
       "    <tr>\n",
       "      <th>3</th>\n",
       "      <td>Share-18</td>\n",
       "      <td>12.088807</td>\n",
       "    </tr>\n",
       "    <tr>\n",
       "      <th>4</th>\n",
       "      <td>Share-8</td>\n",
       "      <td>11.550431</td>\n",
       "    </tr>\n",
       "    <tr>\n",
       "      <th>5</th>\n",
       "      <td>AdO3-1</td>\n",
       "      <td>10.369387</td>\n",
       "    </tr>\n",
       "  </tbody>\n",
       "</table>\n",
       "</div>"
      ],
      "text/plain": [
       "    user_id  avg_charging_duration\n",
       "0   Share-9              16.845833\n",
       "1  Share-17              12.894556\n",
       "2  Share-25              12.214475\n",
       "3  Share-18              12.088807\n",
       "4   Share-8              11.550431\n",
       "5    AdO3-1              10.369387"
      ]
     },
     "execution_count": 3,
     "metadata": {
      "application/com.datacamp.data-table.v2+json": {
       "status": "success"
      }
     },
     "output_type": "execute_result"
    }
   ],
   "source": [
    "-- long_duration_shared_users\n",
    "\n",
    "SELECT user_id, \n",
    "\tAVG(duration_hours) as avg_charging_duration\n",
    "FROM charging_sessions \n",
    "WHERE user_type = 'Shared' \n",
    "GROUP BY user_id\n",
    "HAVING AVG(duration_hours) > 10\n",
    "ORDER BY AVG(duration_hours) DESC;"
   ]
  }
 ],
 "metadata": {
  "colab": {
   "name": "Welcome to DataCamp Workspaces.ipynb",
   "provenance": []
  },
  "editor": "DataLab",
  "kernelspec": {
   "display_name": "Python 3 (ipykernel)",
   "language": "python",
   "name": "python3"
  },
  "language_info": {
   "codemirror_mode": {
    "name": "ipython",
    "version": 3
   },
   "file_extension": ".py",
   "mimetype": "text/x-python",
   "name": "python",
   "nbconvert_exporter": "python",
   "pygments_lexer": "ipython3",
   "version": "3.8.10"
  }
 },
 "nbformat": 4,
 "nbformat_minor": 5
}
